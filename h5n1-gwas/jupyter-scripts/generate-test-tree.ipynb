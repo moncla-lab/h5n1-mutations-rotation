{
 "cells": [
  {
   "cell_type": "markdown",
   "metadata": {},
   "source": [
    "# Make a test tree \n",
    "\n",
    "I want a small, test tree that will retain the amino acid mutations annotations present in the nextstrain jsons. It seems like the only real way to do that is to parse through the tree json, pull out the clade I want, and write it out as a json tree. "
   ]
  },
  {
   "cell_type": "code",
   "execution_count": 14,
   "metadata": {},
   "outputs": [],
   "source": [
    "import glob, json\n",
    "import re,copy, imp\n",
    "import pandas as pd \n",
    "import numpy as np\n",
    "\n",
    "# for this to work, you will need to download the most recent version of baltic, available here \n",
    "bt = imp.load_source('baltic', '/Users/lmoncla/src/baltic/baltic/baltic.py')"
   ]
  },
  {
   "cell_type": "code",
   "execution_count": 15,
   "metadata": {},
   "outputs": [],
   "source": [
    "\"\"\"using baltic's subtree function, enumerate the subtree descending from the supplied node\"\"\"\n",
    "\n",
    "def return_subtree(node, tree):\n",
    "    subtree=tree.subtree(node) ## this function returns a new baltic object that contains a trait-traversed subtree, starting from node k, for as long as the traversal stays within the starting trait value state\n",
    "            \n",
    "    if subtree != None:\n",
    "        subtree.traverse_tree()\n",
    "        subtree.sortBranches()\n",
    "        return(subtree)"
   ]
  },
  {
   "cell_type": "code",
   "execution_count": 17,
   "metadata": {},
   "outputs": [],
   "source": [
    "def return_test_subtree(tree, desired_tips):\n",
    "    for k in tree.Objects: \n",
    "        if k.branchType == \"node\":\n",
    "            if k.leaves == desired_tips:\n",
    "\n",
    "                # make this subtree a tree object \n",
    "                subtree = return_subtree(k, tree)\n",
    "\n",
    "    return(subtree)"
   ]
  },
  {
   "cell_type": "code",
   "execution_count": null,
   "metadata": {},
   "outputs": [],
   "source": []
  }
 ],
 "metadata": {
  "kernelspec": {
   "display_name": "LHM-basics (python3)",
   "language": "python",
   "name": "lhm-basics"
  },
  "language_info": {
   "codemirror_mode": {
    "name": "ipython",
    "version": 3
   },
   "file_extension": ".py",
   "mimetype": "text/x-python",
   "name": "python",
   "nbconvert_exporter": "python",
   "pygments_lexer": "ipython3",
   "version": "3.7.3"
  }
 },
 "nbformat": 4,
 "nbformat_minor": 2
}
