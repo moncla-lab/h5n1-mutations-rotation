{
 "cells": [
  {
   "cell_type": "markdown",
   "metadata": {},
   "source": [
    "# Run phylogenetic scan for mutations enriched in different hosts\n",
    "\n",
    "This jupyter notebook contains commands to load the necessary dependencies, and perform the gene-wide scan for mutations enriched in different host species. The way I've structured this code is by coding the actual computational components of the method into other scripts/documents, and then simply calling them here. My intention is that this should avoid making edits to the underlying code, and instead altering parameters like the number of simulated iterations, the input tree, required counts, etc... The real heft of the method is coded in 2 other notebooks: `calculate-enrichment-scores` and `simulate-mutation-gain-loss-markov-chain`. This notebook will read those notebooks in, and run them. \n",
    "\n",
    "The basic principle of this method is to identify mutations that are enriched in different host species. The premise is that if mutations are adaptive/beneficial in a given host species, then that mutation should be found more commonly in one host species than the other. In this project, we are trying to find mutations that are responsible for human adaptation of H5N1 viruses, so our host comparison is between humans and birds. \n",
    "\n",
    "Comparing mutations across host species can be accomplished by simply looking at an alignment, but using a tree-based approach has many benefits. For one, in an alignment, there is no information about how sequences/samples are related to each other. Using a tree-based approach allows you to control for associations based on related samples and to specifically look for independent patterns of recurrent mutations. It allows you to run controls for population structure/sampling, which are important. \n",
    "\n",
    "In this approach, you first enumerate every single mutation that occurs on the phylogenetic tree, and count how many times that mutation is found in the hosts you want to query. Here, for each mutation on the tree, we record how many times it occurs on the tree and how many human and bird tips it is associated with. Because we are not reconstructing ancestral states onto internal nodes on the phylogeny, mutations that arise on nodes are not assigned a host state. Instead, we trace the path from that node to all its descendants, and record tips that have retained that mutation. For each mutation, we then construct a 2x2 contingency table: \n",
    "\n",
    "|host|presence|absence|\n",
    "|:------|:-------|:------|\n",
    "|host 1|A|B| \n",
    "|host 2|C|D|\n",
    "\n",
    "where A, B, C, and D are counts of the mutation's presence and absence in host 1 and host 2. Based on the methodology [here](https://github.com/sheppardlab/pGWAS/blob/master/assomap_given_phylo.py), published in [this paper](https://www.nature.com/articles/s41467-018-07368-7#Sec10) and detailed in lines 245-273 in the code, you can then calculate an odds ratio, describing the degree of association of a particular mutation with a particular host as: `OR = (A * D)/(B * C)`. You can take this one step further and use this 2x2 table to calculate a Fisher's exact test p-value. When you run a fisher's exact test in python, it will output 2 values: an odds ratio and a p-value. The odds ratio output is exactly equivalent to the odds ratio calculated here. For testing purposes, this code currently calcules an odds ratio and p-value by fishers exact test for each mutation. \n",
    "\n",
    "At the end of the first part of the procedure, you then have a list of every mutation on the tree, it's counts in human and avian tips, an odds ratio, and a p-value. \n",
    "\n",
    "A huge, recurring issue for phylogenetic-based methods, and for GWAS methods, is sampling and population structure. There are lots of instances, for example, where a single mutation will be present in a large cluster of human tips, resulting in a large odds ratio. However, we can't be sure that this mutation was not in the avian population from which these humans were infected, because sampling is incomplete. It could absolutely be true that this mutation resulted in a virus more able to infect people, but it could also be in this human cluster simply because in this outbreak, only humans were sampled. \n",
    "\n",
    "One way to control for this issue is to evaluate how skewed counts among these hosts are assuming no selection at all. For example, if we placed mutations onto the tree randomly, with no underlying selection, how frequently would we see ones that are significantly enriched in one host or the other by the odds ratio? By definition, these associations would be due to chance alone. We can then use this \"null distribution\" to find examples in our true tree that are more skewed than we see in this random, null. To do this, we take the tree and strip it of its mutations. We then simulate a single mutation that toggles on and off on the tree and count how many times it is found in human and avian tips as above. For each simulated tree, we calculate the same odds ratio and p-value. We do this many times to generate a distribution of odds ratios and p-values in these simulated datasets. We can then use these distributions as null distributions, and take the most extreme 5% as our cutoff for statistical significance. "
   ]
  },
  {
   "cell_type": "code",
   "execution_count": 1,
   "metadata": {},
   "outputs": [],
   "source": [
    "\"\"\"import modules we will need. Pandas and numpy are for manipulating dataframes, time is for timestamps, glob \n",
    "is for manuevering through shell directries, and json is for processing json files\"\"\"\n",
    "import glob, json\n",
    "import pandas as pd \n",
    "import numpy as np\n",
    "import time\n",
    "\n",
    "\"\"\"this is a module for running R within a juyter notebook. This is not a recommended way to do plotting, but\n",
    "one that I have maintained because I'm pretty dependent on ggplot at this point\"\"\"\n",
    "import rpy2\n",
    "%load_ext rpy2.ipython\n",
    "\n",
    "\"\"\"there are a couple different tools that can be used to parse trees, but my preferred is baltic. Baltic is\n",
    "a tool written in python by Gytis Dudas, and available here: https://github.com/evogytis/baltic. If installing \n",
    "via pip (recommended), import with `import baltic as bt`. Otherwise, import from a local source file as shown \n",
    "here\"\"\"\n",
    "\n",
    "import imp\n",
    "bt = imp.load_source('baltic', '/Users/lmoncla/src/baltic/baltic/baltic.py')"
   ]
  },
  {
   "cell_type": "code",
   "execution_count": 29,
   "metadata": {},
   "outputs": [],
   "source": [
    "\"\"\"other ipython notebooks can be imported as modules with the following syntax. The way this works is that \n",
    "the %run command will run the entirety of the specified jupyter notebooks. This will allow all of the functions\n",
    "coded in those notebooks to be available in this one. The first notebook does part 1, and the 2nd does part 2.\"\"\"\n",
    "\n",
    "%run calculate-enrichment-scores-across-tree-JSON.ipynb\n",
    "%run simulate-mutation-gain-loss-markov-chain.ipynb"
   ]
  },
  {
   "cell_type": "code",
   "execution_count": 14,
   "metadata": {},
   "outputs": [],
   "source": [
    "\"\"\"one thing I really like doing is appending the current date to all my code and output files. This helps me \n",
    "keep track of changes when I rerun analyses on different days, and also helps prevent me from accidentally \n",
    "overwriting files by accident. This uses the python datetime module to store the current date in YYYY-MM-DD \n",
    "format as a variable (string) that can be appended to output files\"\"\"\n",
    "\n",
    "from datetime import date\n",
    "current_date = str(date.today())"
   ]
  },
  {
   "cell_type": "code",
   "execution_count": null,
   "metadata": {},
   "outputs": [],
   "source": []
  },
  {
   "cell_type": "markdown",
   "metadata": {},
   "source": [
    "# Part 1: Infer mutations on tree, and calculate enrichment scores and p-values\n",
    "\n",
    "In this first part of the notebook, we will be reading in a tree, enumerating every mutation on the tree and returning each mutation with an enrichment score (odds ratio) and p-value as assessed by a Fisher's exact test. There are a few required inputs here, which the user should specify which stem from me writing this to be flexible. \n",
    "\n",
    "1. **minimum required count:** For every amino acid on the tree, the enrichment score will not be returned if it is present in less than `minimum required count` tips. I played around with this a little bit, and ended up setting it to 0. The reason is that regardless of counts, I wanted to calculate the score for every mutation, and then post-filter afterwards. \n",
    "\n",
    "2. **method:** there are 2 possible methods: `proportions` and `counts`. In `counts`, we calculate an odds ratio as: `(A*D)/(B*C)`, where `A`,`B`,`C`, and `D` are counts of tips. In `proportions`, we calculate `(A+D)-(B+C)` where the cells are the proportion of total tips in each category. The `counts` method output is the exact odds ratio calculated with a Fisher's exact test, and is more appropriate. \n",
    "\n",
    "There are a few outputs: the `times_detected_dict` outputs the number of times that the mutation arose on the tree. The counts in `scores_dict` represent the number of tips with each mutation. \n",
    "\n",
    "To run this on amino acids, put in the gene name under `gene`. To run on nucleotide mutations, replace gene with `nuc`. "
   ]
  },
  {
   "cell_type": "code",
   "execution_count": 17,
   "metadata": {},
   "outputs": [],
   "source": [
    "tree_path = \"/Users/lmoncla/src/avian-flu/auspice/flu_avian_h5n1_pb2.json\"\n",
    "\n",
    "\"\"\"For the tree you are reading in, you need to specify which attribute encodes the host value. For the avian \n",
    "flu trees on nextstrain, this attribute is `host`. If you specified a different label, like `host_species` or \n",
    "`Host`, you would need to change this. You can check this by manually looking at the tree json file in a text\n",
    "editor, or by parsing through a tree and reading the attributes. \"\"\"\n",
    "host_annotation = 'host'\n",
    "\n",
    "\"\"\"specify the gene you are running, which hosts to compare, method, and minimum required count. Here, host 1 is \n",
    "the host that we want to find mutations that are enriched in, host 2 is the background host\"\"\"\n",
    "gene = \"PB2\"\n",
    "host1 = \"Human\"\n",
    "host2 = \"Avian\"\n",
    "minimum_required_count = 0\n",
    "method = \"counts\""
   ]
  },
  {
   "cell_type": "code",
   "execution_count": 18,
   "metadata": {},
   "outputs": [
    {
     "name": "stdout",
     "output_type": "stream",
     "text": [
      "\n",
      "Tree height: 51.246009\n",
      "Tree length: 2005.087193\n",
      "annotations present\n",
      "\n",
      "Numbers of objects in tree: 2439 (1060 nodes and 1379 leaves)\n",
      "\n"
     ]
    }
   ],
   "source": [
    "tree = read_in_tree_json(tree_path)"
   ]
  },
  {
   "cell_type": "code",
   "execution_count": null,
   "metadata": {},
   "outputs": [],
   "source": []
  },
  {
   "cell_type": "code",
   "execution_count": 19,
   "metadata": {},
   "outputs": [],
   "source": [
    "\"\"\"the outputs, aa_muts and nt_muts, are lists of amino acid mutations and nucleotide mutations on the tree. \n",
    "every mutation on the tree is included.\"\"\"\n",
    "\n",
    "aa_muts, nt_muts = gather_all_mut_on_tree(tree, gene)"
   ]
  },
  {
   "cell_type": "code",
   "execution_count": 20,
   "metadata": {},
   "outputs": [],
   "source": [
    "\"\"\"total_host_tips_on_tree is a dictionary, returning counts of the number of tips corresponding to each host \n",
    "on the tree\"\"\"\n",
    "total_host_tips_on_tree = return_all_host_tips(tree, host1, host2, host_annotation)\n",
    "#print(total_host_tips_on_tree)\n",
    "\n",
    "\"\"\"We will need to the total branch length of the tree, in terms of mutations.\"\"\"\n",
    "total_tree_branch_length, tree_branch_lengths = return_total_tree_branch_length(tree)\n",
    "#print(total_tree_branch_length)"
   ]
  },
  {
   "cell_type": "code",
   "execution_count": 21,
   "metadata": {},
   "outputs": [],
   "source": [
    "\"\"\"calculate enrichment scores for all mutations along the tree. must set method to be counts or proportions; \n",
    "the host_counts variable in calculate_enrichmenet_scores is total_host_tips_on_tree\"\"\"\n",
    "scores_dict, times_detected_dict, branch_lengths_dict, host_counts_dict2 = calculate_enrichment_scores(tree, aa_muts, nt_muts, host1, host2, host_annotation, minimum_required_count, method, total_host_tips_on_tree)"
   ]
  },
  {
   "cell_type": "code",
   "execution_count": 22,
   "metadata": {},
   "outputs": [],
   "source": [
    "\"\"\"convert each dictionary to a dataframe\"\"\"\n",
    "df1 = pd.DataFrame.from_dict(scores_dict, orient=\"index\")\n",
    "df2 = pd.DataFrame.from_dict(times_detected_dict, orient=\"index\", columns=[\"total_times_detected_on_tree\"])\n",
    "df3 = pd.DataFrame.from_dict(branch_lengths_dict, orient=\"index\", columns=[\"branch_length_with_mutation\"])\n",
    "df4 = pd.DataFrame.from_dict(host_counts_dict2, orient=\"index\", columns=[host1, host2, \"other\"])\n",
    "\n",
    "\"\"\"merge them together; pandas join is a merge on the index\"\"\"\n",
    "df5 = df1.join(df2.join(df3.join(df4)))\n",
    "\n",
    "\"\"\"write to csv\"\"\"\n",
    "output_filename = gene + \"_\" + host1 + \"_vs_\" + host2 + \"_data_\" + current_date + \".tsv\"\n",
    "df5.to_csv(output_filename, sep=\"\\t\", header=True, index_label=\"mutation\")"
   ]
  },
  {
   "cell_type": "code",
   "execution_count": null,
   "metadata": {},
   "outputs": [],
   "source": []
  },
  {
   "cell_type": "code",
   "execution_count": null,
   "metadata": {},
   "outputs": [],
   "source": []
  },
  {
   "cell_type": "markdown",
   "metadata": {},
   "source": [
    "# Part 2: simulate mutation gain and loss across the tree to generate a null \n",
    "\n",
    "The output for `sims_times_detected` will be the number of times in each iteration that the simulated mutation arose. This includes occurrences on internal nodes and on terminal nodes. \n",
    "\n",
    "Scores of 0 occur when the mutation was never detected/present in host 1. \n",
    "\n",
    "For this analysis, you will need to specify a few things: \n",
    "1. **iterations:** iterations specifies how many times to simulate mutation gain or loss across the tree. "
   ]
  },
  {
   "cell_type": "code",
   "execution_count": 32,
   "metadata": {},
   "outputs": [],
   "source": [
    "%run simulate-mutation-gain-loss-markov-chain.ipynb"
   ]
  },
  {
   "cell_type": "code",
   "execution_count": 34,
   "metadata": {},
   "outputs": [
    {
     "name": "stdout",
     "output_type": "stream",
     "text": [
      "A/BroilerChicken/BritishColumbia/FAV0228/2022 M1W W1M\n",
      "A/chicken/Oregon/22030743001original/2022 M1W W1M\n",
      "A/Chicken/BritishColumbia/FAV0346OS/2022 M1W W1M\n",
      "A/Skunk/MB/FAV470/2022 M1W W1M\n",
      "this took 0.6462080478668213 seconds ( 0.010770134131113688  minutes, 0.00017950223551856147  hours) to generate 10 simulated trees\n"
     ]
    }
   ],
   "source": [
    "\"\"\"Run the simulations. This can take a long time, so I've added in a time tracker\"\"\"\n",
    "\n",
    "iterations = 10\n",
    "\n",
    "start_time = time.time()\n",
    "\n",
    "sim_scores_dict, sim_times_detected_dict, branches_that_mutated = perform_simulations(tree, gene, iterations, total_tree_branch_length, host1, host2, host_annotation, minimum_required_count, method, total_host_tips_on_tree)\n",
    "\n",
    "# print the amount of time this took\n",
    "total_time_seconds = time.time() - start_time\n",
    "total_time_minutes = total_time_seconds/60\n",
    "total_time_hours = total_time_minutes/60\n",
    "print(\"this took\", total_time_seconds, \"seconds (\", total_time_minutes,\" minutes,\", total_time_hours,\" hours) to generate\", iterations, \"simulated trees\")"
   ]
  },
  {
   "cell_type": "code",
   "execution_count": 11,
   "metadata": {},
   "outputs": [],
   "source": [
    "\"\"\"convert each dictionary to a dataframe\"\"\"\n",
    "\n",
    "\"\"\"this dictionary is nested, so need to manually create i\"\"\"\n",
    "df6 = pd.DataFrame()\n",
    "for iteration in sim_scores_dict: \n",
    "    x = pd.DataFrame.from_dict(sim_scores_dict[iteration], orient=\"index\")\n",
    "    x['simulation_iteration'] = iteration\n",
    "    x.reset_index(inplace=True)\n",
    "    df6 = df6.append(x)\n",
    "\n",
    "df7 = pd.DataFrame()\n",
    "for iteration in sim_times_detected_dict: \n",
    "    y = pd.DataFrame.from_dict(sim_times_detected_dict[iteration], orient=\"index\", columns=[\"times_detected_on_tree\"])\n",
    "    y[\"simulation_iteration\"] = iteration\n",
    "    y.reset_index(inplace=True)\n",
    "    df7 = df7.append(y)"
   ]
  },
  {
   "cell_type": "code",
   "execution_count": null,
   "metadata": {},
   "outputs": [],
   "source": []
  },
  {
   "cell_type": "code",
   "execution_count": 12,
   "metadata": {},
   "outputs": [],
   "source": [
    "## I guess for the simulations, I don't record the distribution of host counts for each mutation\n",
    "# df8 = pd.DataFrame.from_dict(branch_lengths_dict, orient=\"index\", columns=[\"branch_length_with_mutation\"])\n",
    "# df9 = pd.DataFrame.from_dict(host_counts_dict2, orient=\"index\", columns=[host1, host2, \"other\"])\n",
    "\n",
    "\"\"\"merge them together; pandas join is a merge on the index\"\"\"\n",
    "df8 = df6.merge(df7, on=[\"simulation_iteration\",\"index\"])\n",
    "\n",
    "\"\"\"write to csv\"\"\"\n",
    "output_filename = gene + \"_\" + host1 + \"_vs_\" + host2 + \"_simulated_\" + current_date + \".tsv\"\n",
    "df8.to_csv(output_filename, sep=\"\\t\", header=True, index=False)"
   ]
  },
  {
   "cell_type": "code",
   "execution_count": null,
   "metadata": {},
   "outputs": [],
   "source": []
  }
 ],
 "metadata": {
  "kernelspec": {
   "display_name": "Python 3",
   "language": "python",
   "name": "python3"
  },
  "language_info": {
   "codemirror_mode": {
    "name": "ipython",
    "version": 3
   },
   "file_extension": ".py",
   "mimetype": "text/x-python",
   "name": "python",
   "nbconvert_exporter": "python",
   "pygments_lexer": "ipython3",
   "version": "3.7.3"
  }
 },
 "nbformat": 4,
 "nbformat_minor": 2
}
