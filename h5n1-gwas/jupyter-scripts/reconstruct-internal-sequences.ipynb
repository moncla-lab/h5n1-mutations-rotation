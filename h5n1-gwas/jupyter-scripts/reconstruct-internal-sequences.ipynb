{
 "cells": [
  {
   "cell_type": "markdown",
   "metadata": {},
   "source": [
    "# Reconstruct internal branch sequences \n",
    "\n",
    "Given a tree and an alignment, infer the sequences of the internal nodes. Then, we can translate nucleotide changes into amino acid changes. This notebook contains all the work I did to work out the method, but I just ended up copying and pasting all the important cells into the enumerate-mutations-on-branches notebook (since that is really where I wanted to use it)"
   ]
  },
  {
   "cell_type": "code",
   "execution_count": 256,
   "metadata": {},
   "outputs": [],
   "source": [
    "import importlib, json\n",
    "import glob\n",
    "import pandas as pd \n",
    "import numpy as np\n",
    "from Bio.Seq import Seq\n",
    "\n",
    "import copy\n",
    "import datetime as dt\n",
    "import time\n",
    "    \n",
    "# for this to work, you will need to download the most recent version of baltic, available here \n",
    "bt = imp.load_source('baltic', '../baltic/baltic/baltic-modified-for-muts.py')"
   ]
  },
  {
   "cell_type": "code",
   "execution_count": 231,
   "metadata": {},
   "outputs": [],
   "source": [
    "def read_alignment(alignment_file):\n",
    "    alignment_dict = {}\n",
    "\n",
    "    for seq in SeqIO.parse(alignment_file, \"fasta\"):\n",
    "        seqName = seq.description \n",
    "        sequence = str(seq.seq)\n",
    "        alignment_dict[seqName] = sequence\n",
    "        \n",
    "    return(alignment_dict)"
   ]
  },
  {
   "cell_type": "code",
   "execution_count": 257,
   "metadata": {},
   "outputs": [],
   "source": [
    "def return_cds_coordinates(genbank_ref_file):\n",
    "    \n",
    "    from Bio import GenBank\n",
    "    with open(genbank_ref_file) as handle:\n",
    "        for record in GenBank.parse(handle):\n",
    "\n",
    "            # pull out the CDS feature; the gene coordinatees are in the feature.location. Get help with help(feauture)\n",
    "            for f in record.features:\n",
    "                if f.key == \"CDS\":\n",
    "                    cds_start = int(f.location.split(\"..\")[0])\n",
    "                    cds_stop = int(f.location.split(\"..\")[1])\n",
    "                \n",
    "    return(cds_start, cds_stop)"
   ]
  },
  {
   "cell_type": "code",
   "execution_count": null,
   "metadata": {},
   "outputs": [],
   "source": []
  },
  {
   "cell_type": "code",
   "execution_count": 258,
   "metadata": {},
   "outputs": [],
   "source": [
    "def return_mutations_on_branch(branch):\n",
    "    if branch == None: \n",
    "        mutations = []\n",
    "    elif \"mutations\" in branch.traits: \n",
    "        mutations = branch.traits[\"mutations\"].split(\",\")\n",
    "    else:\n",
    "        mutations = []\n",
    "    \n",
    "    return(mutations)"
   ]
  },
  {
   "cell_type": "code",
   "execution_count": 259,
   "metadata": {},
   "outputs": [],
   "source": [
    "def return_mutated_sequence(sequence, muts, cds_start, cds_stop):\n",
    "    # make into a list because strings are immutable, while list are not\n",
    "    mutated_sequence = list(sequence)\n",
    "    \n",
    "    for m in muts:\n",
    "        site = int(m[1:-1])-1   # -1 is because of 0 indexing\n",
    "        ancestral_nt = m[0]\n",
    "        mutated_nt = m[-1]\n",
    "        \n",
    "        # since we are going backwards up the tree, we are reconstructing the ancestral sequence\n",
    "        mutated_sequence[site] = ancestral_nt\n",
    "    \n",
    "    mutated_sequence = \"\".join(mutated_sequence)\n",
    "    mutated_aa_sequence, aa_muts = return_mutated_aa_sequence(sequence, mutated_sequence, cds_start, cds_stop)\n",
    "    # return a string\n",
    "    return(mutated_sequence, mutated_aa_sequence, aa_muts)"
   ]
  },
  {
   "cell_type": "code",
   "execution_count": 266,
   "metadata": {},
   "outputs": [],
   "source": [
    "def return_aa_sequence(sequence, cds_start, cds_stop):\n",
    "    \n",
    "    ha_cds = str(sequence)[cds_start-1:cds_stop-1]    # slice string based on cds coordinates\n",
    "    ha_cds_seq = Seq(ha_cds)    # make it a Seq object\n",
    "    translation = ha_cds_seq.translate()\n",
    "    \n",
    "    return(str(translation))"
   ]
  },
  {
   "cell_type": "code",
   "execution_count": 267,
   "metadata": {},
   "outputs": [],
   "source": [
    "def return_mutated_aa_sequence(sequence, mutated_sequence, cds_start, cds_stop):\n",
    "    \n",
    "    ha_cds = str(sequence)[cds_start-1:cds_stop-1]    # slice string based on cds coordinates\n",
    "    ha_cds_seq = Seq(ha_cds)    # make it a Seq object\n",
    "    translation = ha_cds_seq.translate()\n",
    "    mutated_translation = str(Seq(str(mutated_sequence)[cds_start-1:cds_stop-1]).translate())  # same as above but on 1 line\n",
    "    \n",
    "    aa_muts = []\n",
    "    for i in range(len(translation)):\n",
    "        if mutated_translation[i] != translation[i]:\n",
    "            aa_mut = mutated_translation[i] + str(i+1) + translation[i]\n",
    "            aa_muts.append(aa_mut)\n",
    "\n",
    "    return(mutated_translation, aa_muts)"
   ]
  },
  {
   "cell_type": "code",
   "execution_count": 262,
   "metadata": {},
   "outputs": [],
   "source": [
    "def return_all_parents(k, parents_dict, sequence, cds_start, cds_stop):\n",
    "    #print(parents_dict)\n",
    "    mutations = return_mutations_on_branch(k)\n",
    "    \n",
    "    # if at root\n",
    "    if k.parent == None:\n",
    "        return(parents_dict)\n",
    "    \n",
    "    # if not at root yet\n",
    "    else:\n",
    "        sequence, aa_sequence, aa_muts = return_mutated_sequence(sequence, mutations, cds_start, cds_stop)\n",
    "        \n",
    "        parents_dict[k.parent] = {\"nt_muts\": mutations, \"sequence\":sequence, \"aa_sequence\":aa_sequence, \n",
    "                                  \"aa_muts\":aa_muts}\n",
    "        parents_dict = return_all_parents(k.parent, parents_dict, sequence, cds_start, cds_stop)\n",
    "        \n",
    "    return(parents_dict)"
   ]
  },
  {
   "cell_type": "code",
   "execution_count": null,
   "metadata": {},
   "outputs": [],
   "source": []
  },
  {
   "cell_type": "code",
   "execution_count": 263,
   "metadata": {},
   "outputs": [],
   "source": [
    "def return_sequence_map(tree, alignment_dict, cds_start, cds_stop):\n",
    "    \n",
    "    all_nodes = {}\n",
    "\n",
    "    for k in tree.Objects: \n",
    "        if k.branchType == \"leaf\":\n",
    "            sequence = alignment_dict[k.name]\n",
    "            aa_sequence = return_aa_sequence(sequence, cds_start, cds_stop)\n",
    "            mutations = return_mutations_on_branch(k)\n",
    "            mutated_sequence, mutated_aa_sequence, aa_muts = return_mutated_sequence(sequence, mutations, cds_start, cds_stop)\n",
    "            all_nodes[k.name] = {\"muts\":mutations, \"sequence\":sequence, \"aa_sequence\":aa_sequence, \"aa_muts\":aa_muts}\n",
    "            \n",
    "            # parents dict will include all parental nodes from the tip back to the root with their mutations, \n",
    "            # nucleotide sequences, and names as 'branchName':{'nt_muts':[list of nt muts], 'sequence': str(nt sequence)}\n",
    "            parents_dict = {}\n",
    "            parents_dict = return_all_parents(k, parents_dict, sequence, cds_start, cds_stop)\n",
    "            \n",
    "            # make a master list of internal nodes we've already inferred to not repeat work\n",
    "            for p in parents_dict:\n",
    "                sequence = parents_dict[p]['sequence']\n",
    "                aa_sequence = parents_dict[p]['aa_sequence']\n",
    "                aa_muts = parents_dict[p]['aa_muts']\n",
    "                muts = parents_dict[p]['nt_muts']\n",
    "                if p in all_nodes: \n",
    "                    pass\n",
    "                else: \n",
    "                    all_nodes[p] = {\"muts\":muts, \"sequence\":sequence, \"aa_sequence\":aa_sequence, \"aa_muts\":aa_muts}\n",
    "\n",
    "    return(all_nodes)"
   ]
  },
  {
   "cell_type": "code",
   "execution_count": 264,
   "metadata": {},
   "outputs": [],
   "source": [
    "# example for slicing with the proper indices\n",
    "# x = \"apple\"\n",
    "# y = x[0:3] + \"s\" + x[4:]\n",
    "# print(y)"
   ]
  },
  {
   "cell_type": "code",
   "execution_count": 268,
   "metadata": {},
   "outputs": [
    {
     "data": {
      "text/plain": [
       "<baltic.tree at 0x7fa711e668d0>"
      ]
     },
     "execution_count": 268,
     "metadata": {},
     "output_type": "execute_result"
    }
   ],
   "source": [
    "# test_tree = \"../test-data/test-1-tree.trees\"\n",
    "# alignment = \"../../h5n1-host-classification/beast/alignments/aligned_h5n1_ha-3deme-1per-country-month-host-downsampled-bad-dates-2021-06-09-with-annotations-2021-07-06.fasta\"\n",
    "# genbank_ref_file = \"../test-data/reference_h5n1_ha.gb\"\n",
    "\n",
    "# tree = bt.loadNexus(test_tree)\n",
    "\n",
    "# tree"
   ]
  },
  {
   "cell_type": "code",
   "execution_count": 269,
   "metadata": {},
   "outputs": [
    {
     "name": "stdout",
     "output_type": "stream",
     "text": [
      "this took 12.981129169464111 seconds ( 0.21635215282440184  minutes) to run on\n"
     ]
    }
   ],
   "source": [
    "# start_time = time.time()\n",
    "\n",
    "# cds_start, cds_stop = return_cds_coordinates(genbank_ref_file)\n",
    "# alignment_dict = read_alignment(alignment)\n",
    "# sequence_map = return_sequence_map(tree, alignment_dict, cds_start, cds_stop)\n",
    "\n",
    "# total_time_seconds = time.time() - start_time\n",
    "# total_time_minutes = total_time_seconds/60\n",
    "# print(\"this took\", total_time_seconds, \"seconds (\", total_time_minutes,\" minutes) to run on\")"
   ]
  },
  {
   "cell_type": "code",
   "execution_count": 222,
   "metadata": {},
   "outputs": [],
   "source": [
    "# sequence_map"
   ]
  },
  {
   "cell_type": "code",
   "execution_count": 223,
   "metadata": {},
   "outputs": [],
   "source": [
    "# for s in sequence_map: \n",
    "#     if 'C666A' in sequence_map[s]['muts']:\n",
    "#         print(s)\n",
    "#         print(sequence_map[s]['muts'])\n",
    "#         print(sequence_map[s]['aa_muts'])"
   ]
  },
  {
   "cell_type": "code",
   "execution_count": null,
   "metadata": {},
   "outputs": [],
   "source": []
  },
  {
   "cell_type": "code",
   "execution_count": null,
   "metadata": {},
   "outputs": [],
   "source": []
  }
 ],
 "metadata": {
  "kernelspec": {
   "display_name": "LHM-basics (python3)",
   "language": "python",
   "name": "lhm-basics"
  },
  "language_info": {
   "codemirror_mode": {
    "name": "ipython",
    "version": 3
   },
   "file_extension": ".py",
   "mimetype": "text/x-python",
   "name": "python",
   "nbconvert_exporter": "python",
   "pygments_lexer": "ipython3",
   "version": "3.7.3"
  }
 },
 "nbformat": 4,
 "nbformat_minor": 2
}
